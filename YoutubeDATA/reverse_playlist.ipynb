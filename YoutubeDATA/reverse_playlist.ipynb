{
 "cells": [
  {
   "cell_type": "code",
   "execution_count": 2,
   "metadata": {},
   "outputs": [],
   "source": [
    "import pandas as pd"
   ]
  },
  {
   "cell_type": "code",
   "execution_count": 21,
   "metadata": {},
   "outputs": [],
   "source": [
    "filename = 'DATA/ids/ed/공부왕찐천재 홍진경_수업시간.csv'\n",
    "df = pd.read_csv(filename)\n",
    "\n",
    "df = df.loc[::-1].reset_index(drop=True)\n",
    "\n",
    "df.to_csv(filename)"
   ]
  }
 ],
 "metadata": {
  "kernelspec": {
   "display_name": "Python 3",
   "language": "python",
   "name": "python3"
  },
  "language_info": {
   "codemirror_mode": {
    "name": "ipython",
    "version": 3
   },
   "file_extension": ".py",
   "mimetype": "text/x-python",
   "name": "python",
   "nbconvert_exporter": "python",
   "pygments_lexer": "ipython3",
   "version": "3.8.10"
  },
  "orig_nbformat": 4,
  "vscode": {
   "interpreter": {
    "hash": "1016dafd80048a904a2cf3599b8e35f3e8043a2e69ac88becd2cce80983c1a05"
   }
  }
 },
 "nbformat": 4,
 "nbformat_minor": 2
}
