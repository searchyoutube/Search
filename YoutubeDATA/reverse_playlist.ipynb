{
 "cells": [
  {
   "cell_type": "code",
   "execution_count": 2,
   "metadata": {},
   "outputs": [],
   "source": [
    "import pandas as pd"
   ]
  },
  {
   "cell_type": "code",
   "execution_count": 21,
   "metadata": {},
   "outputs": [],
   "source": [
    "filename = 'DATA/ids/ed/공부왕찐천재 홍진경_수업시간.csv'\n",
    "df = pd.read_csv(filename)\n",
    "\n",
    "df = df.loc[::-1].reset_index(drop=True)\n",
    "\n",
    "df.to_csv(filename)"
   ]
  }
 ],
 "metadata": {
  "kernelspec": {
   "display_name": "youtube",
   "language": "python",
   "name": "python3"
  },
  "language_info": {
   "codemirror_mode": {
    "name": "ipython",
    "version": 3
   },
   "file_extension": ".py",
   "mimetype": "text/x-python",
   "name": "python",
   "nbconvert_exporter": "python",
   "pygments_lexer": "ipython3",
   "version": "3.8.10"
  },
  "orig_nbformat": 4,
  "vscode": {
   "interpreter": {
    "hash": "03620e9787172838262168b97c55377c28b63e01501a24e458c708380ad6f3a3"
   }
  }
 },
 "nbformat": 4,
 "nbformat_minor": 2
}
