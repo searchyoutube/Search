{
 "cells": [
  {
   "cell_type": "code",
   "execution_count": 1,
   "metadata": {},
   "outputs": [],
   "source": [
    "import os\n",
    "import pandas as pd\n",
    "from googleapiclient.discovery import build\n",
    "from googleapiclient.errors import HttpError\n",
    "from oauth2client.tools import argparser\n",
    "from datetime import datetime"
   ]
  },
  {
   "cell_type": "code",
   "execution_count": 6,
   "metadata": {},
   "outputs": [],
   "source": [
    "def get_statics(datas,channelId,playlistName):\n",
    "    category_id=[]\n",
    "    views=[]\n",
    "    likes=[]\n",
    "    favorites = []\n",
    "    comments=[]\n",
    "    title=[]\n",
    "    date=[]\n",
    "    tag=[]\n",
    "\n",
    "    for i in range(len(datas)):\n",
    "        request=youtube.videos().list(\n",
    "        part='snippet,statistics',\n",
    "        id=datas['video_id'][i],\n",
    "        maxResults=100)\n",
    "        \n",
    "        response=request.execute()\n",
    "        \n",
    "        if response['items']==[]:\n",
    "            title.append('-')\n",
    "            category_id.append('-')\n",
    "            views.append('-')\n",
    "            likes.append('-')\n",
    "            favorites.append('-')\n",
    "            comments.append('-')\n",
    "            date.append('-')\n",
    "            tag.append('-')\n",
    "            \n",
    "        else :\n",
    "            title.append(response['items'][0]['snippet']['title'])\n",
    "            category_id.append(response['items'][0]['snippet']['categoryId'])\n",
    "            views.append(response['items'][0]['statistics']['viewCount'])\n",
    "            if 'likeCount' in response['items'][0]['statistics']:\n",
    "                likes.append(response['items'][0]['statistics']['likeCount'])\n",
    "            else:\n",
    "                likes.append('Nan')\n",
    "            favorites.append(response['items'][0]['statistics']['favoriteCount'])\n",
    "            if 'comments' in response['items'][0]['statistics']:\n",
    "                comments.append(response['items'][0]['statistics']['commentCount'])\n",
    "            else:\n",
    "                comments.append('Nan')\n",
    "            date.append(response['items'][0]['snippet']['publishedAt'])\n",
    "            if 'tags' in response['items'][0]['snippet']:\n",
    "                tag.append(response['items'][0]['snippet']['tags'])\n",
    "            else:\n",
    "                tag.append('Nan')\n",
    "        \n",
    "    df=pd.DataFrame([title,category_id,views,likes,favorites,comments,date,tag]).T\n",
    "    df.columns=['title','category_id','views','likes','favorites','comments','date','tags']\n",
    "    today = datetime.today()\n",
    "\n",
    "    currentDay = today.strftime(\"%Y%m%d\")\n",
    "\n",
    "    df.to_csv(f'./DATA/videos/{channelId}_{playlistName}_{currentDay}.csv', sep=',', na_rep='NaN')\n",
    "        "
   ]
  },
  {
   "cell_type": "code",
   "execution_count": 7,
   "metadata": {},
   "outputs": [],
   "source": [
    "path = \".\\DATA\\ids\"\n",
    "file_lst = os.listdir(path)\n",
    "f = open(\"key.txt\",'r')\n",
    "DEVELOPER_KEY= f.readline()\n",
    "f.close()\n",
    "\n",
    "YOUTUBE_API_SERVICE_NAME='youtube'\n",
    "YOUTUBE_API_VERSION='v3'\n",
    "\n",
    "youtube=build(YOUTUBE_API_SERVICE_NAME,YOUTUBE_API_VERSION,developerKey=DEVELOPER_KEY)\n",
    "\n",
    "for filename in file_lst:\n",
    "    datas = pd.read_csv(f\".\\DATA\\ids\\{filename}\")\n",
    "\n",
    "    channelId, playlistName = filename[:-4].split('_')\n",
    "    get_statics(datas,channelId, playlistName)\n"
   ]
  }
 ],
 "metadata": {
  "kernelspec": {
   "display_name": "youtube",
   "language": "python",
   "name": "python3"
  },
  "language_info": {
   "codemirror_mode": {
    "name": "ipython",
    "version": 3
   },
   "file_extension": ".py",
   "mimetype": "text/x-python",
   "name": "python",
   "nbconvert_exporter": "python",
   "pygments_lexer": "ipython3",
   "version": "3.8.10"
  },
  "orig_nbformat": 4,
  "vscode": {
   "interpreter": {
    "hash": "03620e9787172838262168b97c55377c28b63e01501a24e458c708380ad6f3a3"
   }
  }
 },
 "nbformat": 4,
 "nbformat_minor": 2
}
