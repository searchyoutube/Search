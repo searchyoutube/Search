{
 "cells": [
  {
   "cell_type": "code",
   "execution_count": 3,
   "metadata": {},
   "outputs": [],
   "source": [
    "import os\n",
    "import pandas as pd\n",
    "from googleapiclient.discovery import build\n",
    "from googleapiclient.errors import HttpError\n",
    "from oauth2client.tools import argparser"
   ]
  },
  {
   "cell_type": "code",
   "execution_count": 16,
   "metadata": {},
   "outputs": [],
   "source": [
    "def get_statics(datas,channelId,playlistName):\n",
    "    category_id=[]\n",
    "    views=[]\n",
    "    likes=[]\n",
    "    favorites = []\n",
    "    comments=[]\n",
    "    title=[]\n",
    "    date=[]\n",
    "    tag=[]\n",
    "\n",
    "    for i in range(len(datas)):\n",
    "        request=youtube.videos().list(\n",
    "        part='snippet,statistics',\n",
    "        id=datas['video_id'][i],\n",
    "        maxResults=100)\n",
    "        \n",
    "        response=request.execute()\n",
    "        print(response['items'][0]['snippet'].keys())\n",
    "        \n",
    "        if response['items']==[]:\n",
    "            title.append('-')\n",
    "            category_id.append('-')\n",
    "            views.append('-')\n",
    "            likes.append('-')\n",
    "            favorites.append('-')\n",
    "            comments.append('-')\n",
    "            date.append('-')\n",
    "            tag.aapend('-')\n",
    "            \n",
    "        else :\n",
    "            title.append(response['items'][0]['snippet']['title'])\n",
    "            category_id.append(response['items'][0]['snippet']['categoryId'])\n",
    "            views.append(response['items'][0]['statistics']['viewCount'])\n",
    "            likes.append(response['items'][0]['statistics']['likeCount'])\n",
    "            favorites.append(response['items'][0]['statistics']['favoriteCount'])\n",
    "            comments.append(response['items'][0]['statistics']['commentCount'])\n",
    "            date.append(response['items'][0]['snippet']['publishedAt'])\n",
    "            tag.append(response['items'][0]['snippet']['tags'])\n",
    "        \n",
    "    df=pd.DataFrame([title,category_id,views,likes,comments,date]).T\n",
    "    df.columns=['title','category_id','views','likes','favorites','comments','date','tags']\n",
    "    today = date.today()\n",
    "\n",
    "    currentDay = today.strftime(\"%Y%m%d\")\n",
    "\n",
    "    df.to_csv(f'./DATA/{channleId}_{playlistName}_{currentDay}.csv', sep=',', na_rep='NaN')\n",
    "        "
   ]
  },
  {
   "cell_type": "code",
   "execution_count": 17,
   "metadata": {},
   "outputs": [
    {
     "name": "stdout",
     "output_type": "stream",
     "text": [
      "dict_keys(['publishedAt', 'channelId', 'title', 'description', 'thumbnails', 'channelTitle', 'tags', 'categoryId', 'liveBroadcastContent', 'localized', 'defaultAudioLanguage'])\n",
      "dict_keys(['publishedAt', 'channelId', 'title', 'description', 'thumbnails', 'channelTitle', 'tags', 'categoryId', 'liveBroadcastContent', 'localized', 'defaultAudioLanguage'])\n",
      "dict_keys(['publishedAt', 'channelId', 'title', 'description', 'thumbnails', 'channelTitle', 'tags', 'categoryId', 'liveBroadcastContent', 'localized', 'defaultAudioLanguage'])\n",
      "dict_keys(['publishedAt', 'channelId', 'title', 'description', 'thumbnails', 'channelTitle', 'tags', 'categoryId', 'liveBroadcastContent', 'localized', 'defaultAudioLanguage'])\n",
      "dict_keys(['publishedAt', 'channelId', 'title', 'description', 'thumbnails', 'channelTitle', 'tags', 'categoryId', 'liveBroadcastContent', 'localized', 'defaultAudioLanguage'])\n",
      "dict_keys(['publishedAt', 'channelId', 'title', 'description', 'thumbnails', 'channelTitle', 'categoryId', 'liveBroadcastContent', 'localized', 'defaultAudioLanguage'])\n"
     ]
    },
    {
     "ename": "KeyError",
     "evalue": "'tags'",
     "output_type": "error",
     "traceback": [
      "\u001b[1;31m---------------------------------------------------------------------------\u001b[0m",
      "\u001b[1;31mKeyError\u001b[0m                                  Traceback (most recent call last)",
      "Cell \u001b[1;32mIn[17], line 16\u001b[0m\n\u001b[0;32m     13\u001b[0m datas \u001b[39m=\u001b[39m pd\u001b[39m.\u001b[39mread_csv(\u001b[39mf\u001b[39m\u001b[39m\"\u001b[39m\u001b[39m.\u001b[39m\u001b[39m\\\u001b[39m\u001b[39mDATA\u001b[39m\u001b[39m\\\u001b[39m\u001b[39mids\u001b[39m\u001b[39m\\\u001b[39m\u001b[39m{\u001b[39;00mfilename\u001b[39m}\u001b[39;00m\u001b[39m\"\u001b[39m)\n\u001b[0;32m     15\u001b[0m channelId, playlistName \u001b[39m=\u001b[39m filename\u001b[39m.\u001b[39msplit(\u001b[39m'\u001b[39m\u001b[39m_\u001b[39m\u001b[39m'\u001b[39m)\n\u001b[1;32m---> 16\u001b[0m get_statics(datas,channelId, playlistName)\n",
      "Cell \u001b[1;32mIn[16], line 38\u001b[0m, in \u001b[0;36mget_statics\u001b[1;34m(datas, channelId, playlistName)\u001b[0m\n\u001b[0;32m     36\u001b[0m         comments\u001b[39m.\u001b[39mappend(response[\u001b[39m'\u001b[39m\u001b[39mitems\u001b[39m\u001b[39m'\u001b[39m][\u001b[39m0\u001b[39m][\u001b[39m'\u001b[39m\u001b[39mstatistics\u001b[39m\u001b[39m'\u001b[39m][\u001b[39m'\u001b[39m\u001b[39mcommentCount\u001b[39m\u001b[39m'\u001b[39m])\n\u001b[0;32m     37\u001b[0m         date\u001b[39m.\u001b[39mappend(response[\u001b[39m'\u001b[39m\u001b[39mitems\u001b[39m\u001b[39m'\u001b[39m][\u001b[39m0\u001b[39m][\u001b[39m'\u001b[39m\u001b[39msnippet\u001b[39m\u001b[39m'\u001b[39m][\u001b[39m'\u001b[39m\u001b[39mpublishedAt\u001b[39m\u001b[39m'\u001b[39m])\n\u001b[1;32m---> 38\u001b[0m         tag\u001b[39m.\u001b[39mappend(response[\u001b[39m'\u001b[39;49m\u001b[39mitems\u001b[39;49m\u001b[39m'\u001b[39;49m][\u001b[39m0\u001b[39;49m][\u001b[39m'\u001b[39;49m\u001b[39msnippet\u001b[39;49m\u001b[39m'\u001b[39;49m][\u001b[39m'\u001b[39;49m\u001b[39mtags\u001b[39;49m\u001b[39m'\u001b[39;49m])\n\u001b[0;32m     40\u001b[0m df\u001b[39m=\u001b[39mpd\u001b[39m.\u001b[39mDataFrame([title,category_id,views,likes,comments,date])\u001b[39m.\u001b[39mT\n\u001b[0;32m     41\u001b[0m df\u001b[39m.\u001b[39mcolumns\u001b[39m=\u001b[39m[\u001b[39m'\u001b[39m\u001b[39mtitle\u001b[39m\u001b[39m'\u001b[39m,\u001b[39m'\u001b[39m\u001b[39mcategory_id\u001b[39m\u001b[39m'\u001b[39m,\u001b[39m'\u001b[39m\u001b[39mviews\u001b[39m\u001b[39m'\u001b[39m,\u001b[39m'\u001b[39m\u001b[39mlikes\u001b[39m\u001b[39m'\u001b[39m,\u001b[39m'\u001b[39m\u001b[39mfavorites\u001b[39m\u001b[39m'\u001b[39m,\u001b[39m'\u001b[39m\u001b[39mcomments\u001b[39m\u001b[39m'\u001b[39m,\u001b[39m'\u001b[39m\u001b[39mdate\u001b[39m\u001b[39m'\u001b[39m,\u001b[39m'\u001b[39m\u001b[39mtags\u001b[39m\u001b[39m'\u001b[39m]\n",
      "\u001b[1;31mKeyError\u001b[0m: 'tags'"
     ]
    }
   ],
   "source": [
    "\n",
    "\n",
    "path = \".\\DATA\\ids\"\n",
    "file_lst = os.listdir(path)\n",
    "f = open(\"key.txt\",'r')\n",
    "DEVELOPER_KEY= f.readline()\n",
    "f.close()\n",
    "\n",
    "YOUTUBE_API_SERVICE_NAME='youtube'\n",
    "YOUTUBE_API_VERSION='v3'\n",
    "\n",
    "youtube=build(YOUTUBE_API_SERVICE_NAME,YOUTUBE_API_VERSION,developerKey=DEVELOPER_KEY)\n",
    "\n",
    "for filename in file_lst:\n",
    "    datas = pd.read_csv(f\".\\DATA\\ids\\{filename}\")\n",
    "\n",
    "    channelId, playlistName = filename.split('_')\n",
    "    get_statics(datas,channelId, playlistName)\n"
   ]
  },
  {
   "cell_type": "code",
   "execution_count": 1,
   "metadata": {},
   "outputs": [
    {
     "name": "stdout",
     "output_type": "stream",
     "text": [
      "가나다 라마바\n"
     ]
    }
   ],
   "source": [
    "testStr = '가나다_라마바'\n",
    "st1, st2 = testStr.split('_')\n",
    "print(st1,st2)"
   ]
  }
 ],
 "metadata": {
  "kernelspec": {
   "display_name": "youtube",
   "language": "python",
   "name": "python3"
  },
  "language_info": {
   "codemirror_mode": {
    "name": "ipython",
    "version": 3
   },
   "file_extension": ".py",
   "mimetype": "text/x-python",
   "name": "python",
   "nbconvert_exporter": "python",
   "pygments_lexer": "ipython3",
   "version": "3.8.10"
  },
  "orig_nbformat": 4,
  "vscode": {
   "interpreter": {
    "hash": "03620e9787172838262168b97c55377c28b63e01501a24e458c708380ad6f3a3"
   }
  }
 },
 "nbformat": 4,
 "nbformat_minor": 2
}
