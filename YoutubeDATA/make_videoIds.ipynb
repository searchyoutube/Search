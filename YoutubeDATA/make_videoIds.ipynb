{
 "cells": [
  {
   "cell_type": "code",
   "execution_count": 15,
   "metadata": {},
   "outputs": [],
   "source": [
    "import pandas as pd\n",
    "from googleapiclient.discovery import build"
   ]
  },
  {
   "cell_type": "code",
   "execution_count": 16,
   "metadata": {},
   "outputs": [],
   "source": [
    "def makeIdsFile(channel,playlistName,playlistId):\n",
    "    playlist_items = []\n",
    "    next_page_token = None\n",
    "\n",
    "    while True:\n",
    "        # Retrieve the next page of playlist items\n",
    "        playlist_request = youtube.playlistItems().list(\n",
    "            part='contentDetails',\n",
    "            playlistId=playlistId,\n",
    "            maxResults=50,\n",
    "            pageToken=next_page_token\n",
    "        )\n",
    "        playlist_response = playlist_request.execute()\n",
    "\n",
    "        # Add the video IDs to the list\n",
    "        for item in playlist_response['items']:\n",
    "            playlist_items.append(item['contentDetails']['videoId'])\n",
    "\n",
    "        # Check if there are more pages to retrieve\n",
    "        next_page_token = playlist_response.get('nextPageToken')\n",
    "        if not next_page_token:\n",
    "            break\n",
    "\n",
    "    # Create a DataFrame with the video IDs\n",
    "    df = pd.DataFrame({'video_id': playlist_items})\n",
    "\n",
    "    # Save the DataFrame to a CSV file\n",
    "    df.to_csv(f'.\\DATA\\ids\\{channel}_{playlistName}.csv', index=False)"
   ]
  },
  {
   "cell_type": "code",
   "execution_count": 17,
   "metadata": {},
   "outputs": [],
   "source": [
    "# Set your API key and playlist ID\n",
    "f = open(\"key.txt\",'r')\n",
    "DEVELOPER_KEY= f.readline()\n",
    "f.close()\n",
    "\n",
    "# Create a YouTube API client\n",
    "youtube = build('youtube', 'v3', developerKey=DEVELOPER_KEY)\n",
    "\n",
    "datas = pd.read_csv(\".\\DATA\\playlistIds.csv\")\n",
    "for i in range(len(datas)):\n",
    "    makeIdsFile(datas['channel'][i],datas['playlistName'][i],datas['playlistId'][i])"
   ]
  }
 ],
 "metadata": {
  "kernelspec": {
   "display_name": "youtube",
   "language": "python",
   "name": "python3"
  },
  "language_info": {
   "codemirror_mode": {
    "name": "ipython",
    "version": 3
   },
   "file_extension": ".py",
   "mimetype": "text/x-python",
   "name": "python",
   "nbconvert_exporter": "python",
   "pygments_lexer": "ipython3",
   "version": "3.8.10"
  },
  "orig_nbformat": 4,
  "vscode": {
   "interpreter": {
    "hash": "03620e9787172838262168b97c55377c28b63e01501a24e458c708380ad6f3a3"
   }
  }
 },
 "nbformat": 4,
 "nbformat_minor": 2
}
