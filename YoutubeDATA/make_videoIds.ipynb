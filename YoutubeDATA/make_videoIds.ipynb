{
 "cells": [
  {
   "cell_type": "code",
   "execution_count": 1,
   "metadata": {},
   "outputs": [],
   "source": [
    "import pandas as pd\n",
    "from googleapiclient.discovery import build"
   ]
  },
  {
   "cell_type": "code",
   "execution_count": 2,
   "metadata": {},
   "outputs": [
    {
     "data": {
      "text/html": [
       "<div>\n",
       "<style scoped>\n",
       "    .dataframe tbody tr th:only-of-type {\n",
       "        vertical-align: middle;\n",
       "    }\n",
       "\n",
       "    .dataframe tbody tr th {\n",
       "        vertical-align: top;\n",
       "    }\n",
       "\n",
       "    .dataframe thead th {\n",
       "        text-align: right;\n",
       "    }\n",
       "</style>\n",
       "<table border=\"1\" class=\"dataframe\">\n",
       "  <thead>\n",
       "    <tr style=\"text-align: right;\">\n",
       "      <th></th>\n",
       "      <th>channel,playlistName,playlistId</th>\n",
       "    </tr>\n",
       "  </thead>\n",
       "  <tbody>\n",
       "    <tr>\n",
       "      <th>0</th>\n",
       "      <td>빠니보틀,유라시아 여행,PLWehnFn-hSbsvAAGWWLA7KzjbcCyeG6iz</td>\n",
       "    </tr>\n",
       "    <tr>\n",
       "      <th>1</th>\n",
       "      <td>빠니보틀,아메리카여행,PLWehnFn-hSbszVy2pYWUl0f04sjYAtfQo</td>\n",
       "    </tr>\n",
       "    <tr>\n",
       "      <th>2</th>\n",
       "      <td>곽튜브,세계여행(2021),PLhbjbu4_zxgsqDsUdTj0EPYUY4MNa4vUT</td>\n",
       "    </tr>\n",
       "    <tr>\n",
       "      <th>3</th>\n",
       "      <td>채널십오야,악마는정남이를 입는다,PLr0T5CaHaPwVq0S58d3HjvJbViP...</td>\n",
       "    </tr>\n",
       "    <tr>\n",
       "      <th>4</th>\n",
       "      <td>PLAYLIST ORIGINALS 플레이스트 오리지널,연플리 몰아보기,PLn0zg1...</td>\n",
       "    </tr>\n",
       "  </tbody>\n",
       "</table>\n",
       "</div>"
      ],
      "text/plain": [
       "                     channel,playlistName,playlistId\n",
       "0    빠니보틀,유라시아 여행,PLWehnFn-hSbsvAAGWWLA7KzjbcCyeG6iz\n",
       "1     빠니보틀,아메리카여행,PLWehnFn-hSbszVy2pYWUl0f04sjYAtfQo\n",
       "2  곽튜브,세계여행(2021),PLhbjbu4_zxgsqDsUdTj0EPYUY4MNa4vUT\n",
       "3  채널십오야,악마는정남이를 입는다,PLr0T5CaHaPwVq0S58d3HjvJbViP...\n",
       "4  PLAYLIST ORIGINALS 플레이스트 오리지널,연플리 몰아보기,PLn0zg1..."
      ]
     },
     "execution_count": 2,
     "metadata": {},
     "output_type": "execute_result"
    }
   ],
   "source": [
    "test = pd.read_csv('./DATA/playlistIds.csv',delimiter='\\t')\n",
    "test.head()\n"
   ]
  },
  {
   "cell_type": "code",
   "execution_count": 2,
   "metadata": {},
   "outputs": [],
   "source": [
    "def makeIdsFile(channel,playlistName,playlistId):\n",
    "    playlist_items = []\n",
    "    next_page_token = None\n",
    "\n",
    "    while True:\n",
    "        # Retrieve the next page of playlist items\n",
    "        playlist_request = youtube.playlistItems().list(\n",
    "            part='contentDetails',\n",
    "            playlistId=playlistId,\n",
    "            maxResults=50,\n",
    "            pageToken=next_page_token\n",
    "        )\n",
    "        playlist_response = playlist_request.execute()\n",
    "\n",
    "        # Add the video IDs to the list\n",
    "        for item in playlist_response['items']:\n",
    "            playlist_items.append(item['contentDetails']['videoId'])\n",
    "\n",
    "        # Check if there are more pages to retrieve\n",
    "        next_page_token = playlist_response.get('nextPageToken')\n",
    "        if not next_page_token:\n",
    "            break\n",
    "\n",
    "    # Create a DataFrame with the video IDs\n",
    "    df = pd.DataFrame({'video_id': playlist_items})\n",
    "\n",
    "    # Save the DataFrame to a CSV file\n",
    "    df.to_csv(f'.\\DATA\\ids\\{channel}_{playlistName}.csv', index=False)"
   ]
  },
  {
   "cell_type": "code",
   "execution_count": 3,
   "metadata": {},
   "outputs": [
    {
     "name": "stdout",
     "output_type": "stream",
     "text": [
      "스튜디오 와플 바퀴달린입3\n",
      "스튜디오 와플 터키즈\n",
      "달라스튜디오 네고왕\n",
      "꼰대희 밥묵자\n",
      "강형욱의 보듬TV 견종백과\n",
      "스튜디오 피넛버터 전부 노래 잘함\n",
      "재밌는 거 올라온다 또간집\n",
      "공부왕찐천재 홍진경 수업시간\n",
      "지켜츄 지켜츄\n",
      "차린건 쥐뿔도 없지만 차린건 쥐뿔도 없지만\n",
      "캡존탁 단퐁회\n",
      "팡이요 단퐁회\n",
      "진격캐넌 단퐁회\n",
      "춘자 단퐁회\n",
      "명예훈장 단퐁회\n",
      "글자네 단퐁회\n",
      "김한강 김한강 시리즈\n",
      "tvN 파트너게임\n",
      "시즌비시즌 시즌2\n",
      "시즌비시즌 시즌3\n",
      "스튜디오 와플 바퀴달린입2\n",
      "스튜디오 와플 바퀴달린입1\n",
      "빽능 불타는 청춘\n",
      "채코제 아메리카 여행\n"
     ]
    }
   ],
   "source": [
    "# Set your API key and playlist ID\n",
    "f = open(\"key.txt\",'r')\n",
    "DEVELOPER_KEY= f.readline()\n",
    "f.close()\n",
    "\n",
    "# Create a YouTube API client\n",
    "youtube = build('youtube', 'v3', developerKey=DEVELOPER_KEY)\n",
    "\n",
    "datas = pd.read_csv(\".\\DATA\\playlistIds.csv\")\n",
    "for i in range(len(datas)):\n",
    "    print(datas['channel'][i],datas['playlistName'][i])\n",
    "    makeIdsFile(datas['channel'][i],datas['playlistName'][i],datas['playlistId'][i])"
   ]
  }
 ],
 "metadata": {
  "kernelspec": {
   "display_name": "youtube",
   "language": "python",
   "name": "python3"
  },
  "language_info": {
   "codemirror_mode": {
    "name": "ipython",
    "version": 3
   },
   "file_extension": ".py",
   "mimetype": "text/x-python",
   "name": "python",
   "nbconvert_exporter": "python",
   "pygments_lexer": "ipython3",
   "version": "3.8.10"
  },
  "orig_nbformat": 4,
  "vscode": {
   "interpreter": {
    "hash": "03620e9787172838262168b97c55377c28b63e01501a24e458c708380ad6f3a3"
   }
  }
 },
 "nbformat": 4,
 "nbformat_minor": 2
}
