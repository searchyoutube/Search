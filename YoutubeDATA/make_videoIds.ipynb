{
 "cells": [
  {
   "cell_type": "code",
   "execution_count": 6,
   "metadata": {},
   "outputs": [
    {
     "data": {
      "text/html": [
       "<div>\n",
       "<style scoped>\n",
       "    .dataframe tbody tr th:only-of-type {\n",
       "        vertical-align: middle;\n",
       "    }\n",
       "\n",
       "    .dataframe tbody tr th {\n",
       "        vertical-align: top;\n",
       "    }\n",
       "\n",
       "    .dataframe thead th {\n",
       "        text-align: right;\n",
       "    }\n",
       "</style>\n",
       "<table border=\"1\" class=\"dataframe\">\n",
       "  <thead>\n",
       "    <tr style=\"text-align: right;\">\n",
       "      <th></th>\n",
       "      <th>channel</th>\n",
       "      <th>playlistName</th>\n",
       "      <th>playlistId</th>\n",
       "    </tr>\n",
       "  </thead>\n",
       "  <tbody>\n",
       "    <tr>\n",
       "      <th>0</th>\n",
       "      <td>빠니보틀</td>\n",
       "      <td>유라시아 여행</td>\n",
       "      <td>PLWehnFn-hSbsvAAGWWLA7KzjbcCyeG6iz</td>\n",
       "    </tr>\n",
       "    <tr>\n",
       "      <th>1</th>\n",
       "      <td>빠니보틀</td>\n",
       "      <td>유럽여행</td>\n",
       "      <td>PLWehnFn-hSbszVy2pYWUl0f04sjYAtfQo</td>\n",
       "    </tr>\n",
       "    <tr>\n",
       "      <th>2</th>\n",
       "      <td>곽튜브</td>\n",
       "      <td>세계여행(2021)</td>\n",
       "      <td>PLhbjbu4_zxgsqDsUdTj0EPYUY4MNa4vUT</td>\n",
       "    </tr>\n",
       "    <tr>\n",
       "      <th>3</th>\n",
       "      <td>채널십오야</td>\n",
       "      <td>악마는정남이를 입는다</td>\n",
       "      <td>PLr0T5CaHaPwVq0S58d3HjvJbViPxJrm_C</td>\n",
       "    </tr>\n",
       "  </tbody>\n",
       "</table>\n",
       "</div>"
      ],
      "text/plain": [
       "  channel playlistName                          playlistId\n",
       "0    빠니보틀      유라시아 여행  PLWehnFn-hSbsvAAGWWLA7KzjbcCyeG6iz\n",
       "1    빠니보틀         유럽여행  PLWehnFn-hSbszVy2pYWUl0f04sjYAtfQo\n",
       "2     곽튜브   세계여행(2021)  PLhbjbu4_zxgsqDsUdTj0EPYUY4MNa4vUT\n",
       "3   채널십오야  악마는정남이를 입는다  PLr0T5CaHaPwVq0S58d3HjvJbViPxJrm_C"
      ]
     },
     "execution_count": 6,
     "metadata": {},
     "output_type": "execute_result"
    }
   ],
   "source": [
    "import pandas as pd\n",
    "\n",
    "datas = pd.read_csv('.\\DATA\\playlistIds.csv')\n",
    "datas.head()"
   ]
  },
  {
   "cell_type": "code",
   "execution_count": 7,
   "metadata": {},
   "outputs": [],
   "source": [
    "import pandas as pd\n",
    "from googleapiclient.discovery import build\n",
    "\n",
    "# Set your API key and playlist ID\n",
    "f = open(\"key.txt\",'r')\n",
    "DEVELOPER_KEY= f.readline()\n",
    "f.close()\n",
    "playlist_id = 'PL7eXornP6T5RD2Nc5fyPxW_t6PVE2OEQw'\n",
    "\n",
    "# Create a YouTube API client\n",
    "youtube = build('youtube', 'v3', developerKey=DEVELOPER_KEY)\n",
    "\n",
    "# Retrieve the playlist items\n",
    "playlist_items = []\n",
    "next_page_token = None\n",
    "\n",
    "while True:\n",
    "    # Retrieve the next page of playlist items\n",
    "    playlist_request = youtube.playlistItems().list(\n",
    "        part='contentDetails',\n",
    "        playlistId=playlist_id,\n",
    "        maxResults=50,\n",
    "        pageToken=next_page_token\n",
    "    )\n",
    "    playlist_response = playlist_request.execute()\n",
    "\n",
    "    # Add the video IDs to the list\n",
    "    for item in playlist_response['items']:\n",
    "        playlist_items.append(item['contentDetails']['videoId'])\n",
    "\n",
    "    # Check if there are more pages to retrieve\n",
    "    next_page_token = playlist_response.get('nextPageToken')\n",
    "    if not next_page_token:\n",
    "        break\n",
    "\n",
    "# Create a DataFrame with the video IDs\n",
    "df = pd.DataFrame({'video_id': playlist_items})\n",
    "\n",
    "# Save the DataFrame to a CSV file\n",
    "df.to_csv('video_ids.csv', index=False)"
   ]
  }
 ],
 "metadata": {
  "kernelspec": {
   "display_name": "youtube",
   "language": "python",
   "name": "python3"
  },
  "language_info": {
   "codemirror_mode": {
    "name": "ipython",
    "version": 3
   },
   "file_extension": ".py",
   "mimetype": "text/x-python",
   "name": "python",
   "nbconvert_exporter": "python",
   "pygments_lexer": "ipython3",
   "version": "3.8.10"
  },
  "orig_nbformat": 4,
  "vscode": {
   "interpreter": {
    "hash": "03620e9787172838262168b97c55377c28b63e01501a24e458c708380ad6f3a3"
   }
  }
 },
 "nbformat": 4,
 "nbformat_minor": 2
}
