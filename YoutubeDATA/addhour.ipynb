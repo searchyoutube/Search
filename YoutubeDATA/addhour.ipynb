{
 "cells": [
  {
   "cell_type": "code",
   "execution_count": 1,
   "metadata": {},
   "outputs": [],
   "source": [
    "import pandas as pd\n",
    "import os, datetime"
   ]
  },
  {
   "cell_type": "code",
   "execution_count": 8,
   "metadata": {},
   "outputs": [],
   "source": [
    "def video_preprocess(filename):\n",
    "    datas = pd.read_csv(f'./DATA/video/{filename}.csv')\n",
    "    #YoutubeDATA\\DATA\\videos\\디글_호구들의감빵생활 레전드_20230401.csv\n",
    "    #C:\\Hallym\\Search\\YoutubeDATA\\DATA\\videos\\진격캐넌_단퐁회_20230408.csv\n",
    "    \n",
    "    datas['hour'] = range(10, 10+len(datas))\n",
    "\n",
    "    datas.to_csv(f'./DATA/video/{filename}.csv', index=False)"
   ]
  },
  {
   "cell_type": "code",
   "execution_count": 19,
   "metadata": {},
   "outputs": [],
   "source": [
    "def video_adddelat(filename):\n",
    "    datas = pd.read_csv(f'./DATA/video/{filename}.csv')\n",
    "    #YoutubeDATA\\DATA\\videos\\디글_호구들의감빵생활 레전드_20230401.csv\n",
    "    #C:\\Hallym\\Search\\YoutubeDATA\\DATA\\videos\\진격캐넌_단퐁회_20230408.csv\n",
    "    \n",
    "    datas['update_diff'] = datas['date'].apply(get_delta)\n",
    "\n",
    "    datas.to_csv(f'./DATA/video/{filename}.csv', index=True)"
   ]
  },
  {
   "cell_type": "code",
   "execution_count": 25,
   "metadata": {},
   "outputs": [],
   "source": [
    "def processing(filename):\n",
    "    datas = pd.read_csv(f'./DATA/video/{filename}.csv')\n",
    "\n",
    "    for i in range(len(datas)):\n",
    "        datas.loc[i, 'update_diff'] = datas.loc[i, 'update_diff'] - len(datas) + i + 1\n",
    "    \n",
    "    output_filename = f'./DATA/video/{filename}.csv'\n",
    "    datas.to_csv(output_filename, index=True)"
   ]
  },
  {
   "cell_type": "code",
   "execution_count": 70,
   "metadata": {},
   "outputs": [],
   "source": [
    "def drop(filename):\n",
    "    datas = pd.read_csv(f'./DATA/video/{filename}.csv', index_col=0)\n",
    "    try:\n",
    "        datas.drop(['Unnamed: 0'],axis=1,inplace=True)\n",
    "    except:\n",
    "        pass\n",
    "    # datas.drop(['update_dff'],axis=1,inplace=True)\n",
    "    datas.to_csv(f'./DATA/video/{filename}.csv', index=True)"
   ]
  },
  {
   "cell_type": "code",
   "execution_count": 10,
   "metadata": {},
   "outputs": [],
   "source": [
    "def get_delta(date):\n",
    "    # Parse the start datetime string into a datetime object\n",
    "    start_datetime = datetime.datetime.strptime(date, \"%Y-%m-%dT%H:%M:%SZ\")\n",
    "\n",
    "    # Get the current datetime\n",
    "    end_datetime = datetime.datetime.now()\n",
    "\n",
    "    # Calculate the time difference\n",
    "    time_difference = end_datetime - start_datetime\n",
    "\n",
    "    # Calculate the time difference in hours as an integer\n",
    "    time_difference_hours = int(round(time_difference.total_seconds() / 3600))\n",
    "\n",
    "    return time_difference_hours"
   ]
  },
  {
   "cell_type": "code",
   "execution_count": 8,
   "metadata": {},
   "outputs": [
    {
     "data": {
      "text/plain": [
       "92"
      ]
     },
     "execution_count": 8,
     "metadata": {},
     "output_type": "execute_result"
    }
   ],
   "source": [
    "path = r\".\\DATA\\video\"\n",
    "file_lst = os.listdir(path)\n",
    "len(file_lst)\n",
    "# for filename in file_lst:\n",
    "#     print(filename)\n",
    "#     # video_adddelat(filename[:-4])\n",
    "#     # processing(filename[:-4])\n",
    "#     drop(filename[:-4])\n"
   ]
  },
  {
   "cell_type": "code",
   "execution_count": 4,
   "metadata": {},
   "outputs": [
    {
     "name": "stdout",
     "output_type": "stream",
     "text": [
      "0514 기묘케_0515_1.csv\n"
     ]
    },
    {
     "ename": "NameError",
     "evalue": "name 'video_preprocess' is not defined",
     "output_type": "error",
     "traceback": [
      "\u001b[1;31m---------------------------------------------------------------------------\u001b[0m",
      "\u001b[1;31mNameError\u001b[0m                                 Traceback (most recent call last)",
      "Cell \u001b[1;32mIn[4], line 6\u001b[0m\n\u001b[0;32m      4\u001b[0m \u001b[39mfor\u001b[39;00m filename \u001b[39min\u001b[39;00m file_lst:\n\u001b[0;32m      5\u001b[0m     \u001b[39mprint\u001b[39m(filename)\n\u001b[1;32m----> 6\u001b[0m     video_preprocess(filename[:\u001b[39m-\u001b[39m\u001b[39m4\u001b[39m])\n",
      "\u001b[1;31mNameError\u001b[0m: name 'video_preprocess' is not defined"
     ]
    }
   ],
   "source": [
    "path = r\".\\DATA\\video\"\n",
    "file_lst = os.listdir(path)\n",
    "\n",
    "for filename in file_lst:\n",
    "    print(filename)\n",
    "    video_preprocess(filename[:-4])"
   ]
  },
  {
   "cell_type": "code",
   "execution_count": 2,
   "metadata": {},
   "outputs": [
    {
     "data": {
      "text/plain": [
       "126"
      ]
     },
     "execution_count": 2,
     "metadata": {},
     "output_type": "execute_result"
    }
   ],
   "source": [
    "data = pd.read_csv(r'DATA\\videoIds.csv')\n",
    "len(data)"
   ]
  }
 ],
 "metadata": {
  "kernelspec": {
   "display_name": "Python 3",
   "language": "python",
   "name": "python3"
  },
  "language_info": {
   "codemirror_mode": {
    "name": "ipython",
    "version": 3
   },
   "file_extension": ".py",
   "mimetype": "text/x-python",
   "name": "python",
   "nbconvert_exporter": "python",
   "pygments_lexer": "ipython3",
   "version": "3.8.10"
  },
  "orig_nbformat": 4,
  "vscode": {
   "interpreter": {
    "hash": "1016dafd80048a904a2cf3599b8e35f3e8043a2e69ac88becd2cce80983c1a05"
   }
  }
 },
 "nbformat": 4,
 "nbformat_minor": 2
}
