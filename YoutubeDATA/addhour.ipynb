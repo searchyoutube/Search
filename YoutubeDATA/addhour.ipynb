{
 "cells": [
  {
   "cell_type": "code",
   "execution_count": 13,
   "metadata": {},
   "outputs": [],
   "source": [
    "import pandas as pd\n",
    "import os, datetime"
   ]
  },
  {
   "cell_type": "code",
   "execution_count": 8,
   "metadata": {},
   "outputs": [],
   "source": [
    "def video_preprocess(filename):\n",
    "    datas = pd.read_csv(f'./DATA/video/{filename}.csv')\n",
    "    #YoutubeDATA\\DATA\\videos\\디글_호구들의감빵생활 레전드_20230401.csv\n",
    "    #C:\\Hallym\\Search\\YoutubeDATA\\DATA\\videos\\진격캐넌_단퐁회_20230408.csv\n",
    "    \n",
    "    datas['hour'] = range(10, 10+len(datas))\n",
    "\n",
    "    datas.to_csv(f'./DATA/video/{filename}.csv', index=False)"
   ]
  },
  {
   "cell_type": "code",
   "execution_count": 19,
   "metadata": {},
   "outputs": [],
   "source": [
    "def video_adddelat(filename):\n",
    "    datas = pd.read_csv(f'./DATA/video/{filename}.csv')\n",
    "    #YoutubeDATA\\DATA\\videos\\디글_호구들의감빵생활 레전드_20230401.csv\n",
    "    #C:\\Hallym\\Search\\YoutubeDATA\\DATA\\videos\\진격캐넌_단퐁회_20230408.csv\n",
    "    \n",
    "    datas['update_diff'] = datas['date'].apply(get_delta)\n",
    "\n",
    "    datas.to_csv(f'./DATA/video/{filename}.csv', index=True)"
   ]
  },
  {
   "cell_type": "code",
   "execution_count": 25,
   "metadata": {},
   "outputs": [],
   "source": [
    "def processing(filename):\n",
    "    datas = pd.read_csv(f'./DATA/video/{filename}.csv')\n",
    "\n",
    "    for i in range(len(datas)):\n",
    "        datas.loc[i, 'update_diff'] = datas.loc[i, 'update_diff'] - len(datas) + i + 1\n",
    "    \n",
    "    output_filename = f'./DATA/video/{filename}.csv'\n",
    "    datas.to_csv(output_filename, index=True)"
   ]
  },
  {
   "cell_type": "code",
   "execution_count": 70,
   "metadata": {},
   "outputs": [],
   "source": [
    "def drop(filename):\n",
    "    datas = pd.read_csv(f'./DATA/video/{filename}.csv', index_col=0)\n",
    "    try:\n",
    "        datas.drop(['Unnamed: 0'],axis=1,inplace=True)\n",
    "    except:\n",
    "        pass\n",
    "    # datas.drop(['update_dff'],axis=1,inplace=True)\n",
    "    datas.to_csv(f'./DATA/video/{filename}.csv', index=True)"
   ]
  },
  {
   "cell_type": "code",
   "execution_count": 10,
   "metadata": {},
   "outputs": [],
   "source": [
    "def get_delta(date):\n",
    "    # Parse the start datetime string into a datetime object\n",
    "    start_datetime = datetime.datetime.strptime(date, \"%Y-%m-%dT%H:%M:%SZ\")\n",
    "\n",
    "    # Get the current datetime\n",
    "    end_datetime = datetime.datetime.now()\n",
    "\n",
    "    # Calculate the time difference\n",
    "    time_difference = end_datetime - start_datetime\n",
    "\n",
    "    # Calculate the time difference in hours as an integer\n",
    "    time_difference_hours = int(round(time_difference.total_seconds() / 3600))\n",
    "\n",
    "    return time_difference_hours"
   ]
  },
  {
   "cell_type": "code",
   "execution_count": 71,
   "metadata": {},
   "outputs": [
    {
     "name": "stdout",
     "output_type": "stream",
     "text": [
      "0514 기묘케_0515_1.csv\n",
      "3d펜 꼬북이_0515_1.csv\n",
      "50인 치즐건콘_0515_1.csv\n",
      "Auto GPT_0515_1.csv\n",
      "IAM 직캠_0515_1.csv\n",
      "unforgiven 직캠_0515_1.csv\n",
      "갯츠비 제주_0515_1.csv\n",
      "갯츠비 하체_0515_1.csv\n",
      "고도비만_0515_1.csv\n",
      "고세구 전국트수자랑_0515_1.csv\n",
      "김도 왕눈1_0515_1.csv\n",
      "김실장 넥슨_0515_1.csv\n",
      "김실장 블루아카이브_0515_1.csv\n",
      "김실장 작혼_0515_1.csv\n",
      "김진짜 손흥민_0515_1.csv\n",
      "남극 26_0515_1.csv\n",
      "녹두로 왕눈1_0515_1.csv\n",
      "녹두로 왕눈4_0515_1.csv\n",
      "농촌라이프_0515_1.csv\n",
      "뉴버거 공개_0515_1.csv\n",
      "뉴질랜드 비즈니스석_0515_1.csv\n",
      "듄2 예고편_0515_1.csv\n",
      "드디어 WebGPU 혁명이 왔다_0515_1.csv\n",
      "딘&줄리엣_0515_1.csv\n",
      "류제홍 새로운 시작_0515_1.csv\n",
      "마라꼰대_0515_1.csv\n",
      "마이마운틴 최대몇_0515_1.csv\n",
      "망캐 탬탬버린_0515_1.csv\n",
      "먹갱 라최몇_0515_1.csv\n",
      "면회_0515_1.csv\n",
      "모든맛챌린지 감스트_0515_1.csv\n",
      "모띠로그_0515_1.csv\n",
      "모띠베이션_0515_1.csv\n",
      "베트남 조류3_0515_1.csv\n",
      "비밀연애_0515_1.csv\n",
      "사쿠라 윤성빈_0515_1.csv\n",
      "산기슭 신기한 초자연온천 대모험 - 아제르바이잔(4)_0515_1.csv\n",
      "성수 쇼핑 가이드_0515_1.csv\n",
      "소맥 캠브리지_0515_1.csv\n",
      "식케이에게 우사인 볼트를 묻다_0515_1.csv\n",
      "신병 시즌0 완_0515_1.csv\n",
      "아메카지1_0515_1.csv\n",
      "아메카지2_0515_1.csv\n",
      "아주 일상적인 가슴루틴_0515_1.csv\n",
      "에곤실레와 클림트 전시_0515_1.csv\n",
      "여동사친_0515_1.csv\n",
      "오늘의 지수 4_0515_1.csv\n",
      "오락킹 놀이터4_0515_1.csv\n",
      "오킹 악어의놀이터11_0515_1.csv\n",
      "오킹 임금체불_0515_1.csv\n",
      "요즘 로봇충전기 근황_0515_1.csv\n",
      "우왁굳 vr공포맵_0515_1.csv\n",
      "우정빌리지2_0515_1.csv\n",
      "워킹화_0515_1.csv\n",
      "육식맨 아사도_0515_1.csv\n",
      "윤호찌 돈까스 뷔페_0515_1.csv\n",
      "음랜디2_0515_1.csv\n",
      "잘되는 돼지고기_0515_1.csv\n",
      "정육왕 특수부위_0515_1.csv\n",
      "죽기전 먹어볼 디저트_0515_1.csv\n",
      "중소기업 폐업 이유_0515_1.csv\n",
      "징병남녀_0515_1.csv\n",
      "차린건 쥐뿔도 없지만 김채_0515_1.csv\n",
      "최화정네 요리_0515_1.csv\n",
      "춘자 단퐁회24_0515_1.csv\n",
      "카리나 찾기_0515_1.csv\n",
      "캐럿맨 몰디브2_0515_1.csv\n",
      "탐욕의 장바구니_0515_1.csv\n",
      "태계일주 덱스_0515_1.csv\n",
      "태양인 자이언턱을 만나_0515_1.csv\n",
      "태평양 한가운데 왜 식민지가 있을까_0515_1.csv\n",
      "티니안2_0515_1.csv\n",
      "팡이요 칠흑_0515_1.csv\n",
      "피식쇼 제임스건_0515_1.csv\n",
      "피지컬갤러리 결혼_0515_1.csv\n",
      "헬창극장 바벨컬_0515_1.csv\n"
     ]
    },
    {
     "name": "stderr",
     "output_type": "stream",
     "text": [
      "c:\\Users\\a5267\\AppData\\Local\\Programs\\Python\\Python38\\lib\\site-packages\\pandas\\core\\internals\\blocks.py:2323: RuntimeWarning: invalid value encountered in cast\n",
      "  values = values.astype(str)\n"
     ]
    }
   ],
   "source": [
    "path = r\".\\DATA\\video\"\n",
    "file_lst = os.listdir(path)\n",
    "\n",
    "for filename in file_lst:\n",
    "    print(filename)\n",
    "    # video_adddelat(filename[:-4])\n",
    "    # processing(filename[:-4])\n",
    "    drop(filename[:-4])\n"
   ]
  },
  {
   "cell_type": "code",
   "execution_count": 9,
   "metadata": {},
   "outputs": [
    {
     "name": "stdout",
     "output_type": "stream",
     "text": [
      "0514 기묘케_0515_1.csv\n",
      "3d펜 꼬북이_0515_1.csv\n",
      "50인 치즐건콘_0515_1.csv\n",
      "Auto GPT_0515_1.csv\n",
      "IAM 직캠_0515_1.csv\n",
      "unforgiven 직캠_0515_1.csv\n",
      "갯츠비 제주_0515_1.csv\n",
      "갯츠비 하체_0515_1.csv\n",
      "고도비만_0515_1.csv\n",
      "김실장 넥슨_0515_1.csv\n",
      "김실장 블루아카이브_0515_1.csv\n",
      "김실장 작혼_0515_1.csv\n",
      "김진짜 손흥민_0515_1.csv\n",
      "남극 26_0515_1.csv\n",
      "녹두로 왕눈1_0515_1.csv\n",
      "녹두로 왕눈4_0515_1.csv\n",
      "농촌라이프_0515_1.csv\n",
      "뉴버거 공개_0515_1.csv\n",
      "뉴질랜드 비즈니스석_0515_1.csv\n",
      "듄2 예고편_0515_1.csv\n",
      "드디어 WebGPU 혁명이 왔다_0515_1.csv\n",
      "딘&줄리엣_0515_1.csv\n",
      "류제홍 새로운 시작_0515_1.csv\n",
      "마라꼰대_0515_1.csv\n",
      "마이마운틴 최대몇_0515_1.csv\n",
      "망캐 탬탬버린_0515_1.csv\n",
      "먹갱 라최몇_0515_1.csv\n",
      "면회_0515_1.csv\n",
      "모든맛챌린지 감스트_0515_1.csv\n",
      "모띠로그_0515_1.csv\n",
      "모띠베이션_0515_1.csv\n",
      "베트남 조류3_0515_1.csv\n",
      "비밀연애_0515_1.csv\n",
      "사쿠라 윤성빈_0515_1.csv\n",
      "산기슭 신기한 초자연온천 대모험 - 아제르바이잔(4)_0515_1.csv\n",
      "성수 쇼핑 가이드_0515_1.csv\n",
      "소맥 캠브리지_0515_1.csv\n",
      "식케이에게 우사인 볼트를 묻다_0515_1.csv\n",
      "신병 시즌0 완_0515_1.csv\n",
      "아주 일상적인 가슴루틴_0515_1.csv\n",
      "에곤실레와 클림트 전시_0515_1.csv\n",
      "여동사친_0515_1.csv\n",
      "오늘의 지수 4_0515_1.csv\n",
      "오락킹 놀이터4_0515_1.csv\n",
      "오킹 악어의놀이터11_0515_1.csv\n",
      "요즘 로봇충전기 근황_0515_1.csv\n",
      "우정빌리지2_0515_1.csv\n",
      "윤호찌 돈까스 뷔페_0515_1.csv\n",
      "음랜디2_0515_1.csv\n",
      "잘되는 돼지고기_0515_1.csv\n",
      "죽기전 먹어볼 디저트_0515_1.csv\n",
      "중소기업 폐업 이유_0515_1.csv\n",
      "징병남녀_0515_1.csv\n",
      "차린건 쥐뿔도 없지만 김채_0515_1.csv\n",
      "최화정네 요리_0515_1.csv\n",
      "춘자 단퐁회24_0515_1.csv\n",
      "카리나 찾기_0515_1.csv\n",
      "캐럿맨 몰디브2_0515_1.csv\n",
      "탐욕의 장바구니_0515_1.csv\n",
      "태계일주 덱스_0515_1.csv\n",
      "태양인 자이언턱을 만나_0515_1.csv\n",
      "태평양 한가운데 왜 식민지가 있을까_0515_1.csv\n",
      "티니안2_0515_1.csv\n",
      "팡이요 칠흑_0515_1.csv\n",
      "피식쇼 제임스건_0515_1.csv\n"
     ]
    }
   ],
   "source": [
    "path = r\".\\DATA\\video\"\n",
    "file_lst = os.listdir(path)\n",
    "\n",
    "for filename in file_lst:\n",
    "    print(filename)\n",
    "    video_preprocess(filename[:-4])"
   ]
  }
 ],
 "metadata": {
  "kernelspec": {
   "display_name": "Python 3",
   "language": "python",
   "name": "python3"
  },
  "language_info": {
   "codemirror_mode": {
    "name": "ipython",
    "version": 3
   },
   "file_extension": ".py",
   "mimetype": "text/x-python",
   "name": "python",
   "nbconvert_exporter": "python",
   "pygments_lexer": "ipython3",
   "version": "3.8.10"
  },
  "orig_nbformat": 4,
  "vscode": {
   "interpreter": {
    "hash": "1016dafd80048a904a2cf3599b8e35f3e8043a2e69ac88becd2cce80983c1a05"
   }
  }
 },
 "nbformat": 4,
 "nbformat_minor": 2
}
