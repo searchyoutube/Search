{
 "cells": [
  {
   "cell_type": "code",
   "execution_count": 10,
   "metadata": {},
   "outputs": [],
   "source": [
    "import pandas as pd"
   ]
  },
  {
   "cell_type": "code",
   "execution_count": 11,
   "metadata": {},
   "outputs": [],
   "source": [
    "datas = pd.read_csv('./DATA/videos/대암씨_로보토미_20230404.csv')\n",
    "#YoutubeDATA\\DATA\\videos\\디글_호구들의감빵생활 레전드_20230401.csv\n",
    "\n",
    "# calculate the date difference between rows\n",
    "datas['date_diff'] = pd.to_datetime(datas['date'], format='%Y-%m-%dT%H:%M:%SZ').diff().apply(lambda x: x.total_seconds() / 3600)\n",
    "\n",
    "# set the first date_diff value to 0\n",
    "datas.loc[datas.index[0], 'date_diff'] = 0\n",
    "\n",
    "datas['view_per_first'] = datas['views'] / datas.loc[datas.index[0], 'views']\n",
    "datas['likes_per_first'] = datas['likes'] / datas.loc[datas.index[0], 'likes']\n",
    "datas['likes_per_view'] = datas['likes'] / datas.loc[datas.index[0], 'views']\n",
    "datas.drop(['Unnamed: 0'],axis=1,inplace=True)\n",
    "\n",
    "datas.head()\n",
    "datas.to_csv('test2.csv')"
   ]
  },
  {
   "cell_type": "code",
   "execution_count": 8,
   "metadata": {},
   "outputs": [],
   "source": [
    "# read the CSV file into a Pandas DataFrame\n",
    "df = pd.read_csv('./DATA/PopularRightNow/PRN_korea_20230402.csv')\n",
    "\n",
    "# create a new DataFrame by exploding the 'tags' column\n",
    "tags_df = df.explode('tags')\n",
    "\n",
    "# group by 'tags' and aggregate the sum of 'views' and count of 'tags'\n",
    "result = tags_df.groupby('tags').agg({'views': 'sum', 'tags': 'count'})\n",
    "\n",
    "# rename the columns to more descriptive names\n",
    "result = result.rename(columns={'tags': 'tag_count', 'views': 'total_views'})\n",
    "\n",
    "# sort the DataFrame by 'total_views' in descending order\n",
    "result = result.sort_values('total_views', ascending=False)\n"
   ]
  },
  {
   "cell_type": "code",
   "execution_count": 24,
   "metadata": {},
   "outputs": [
    {
     "name": "stdout",
     "output_type": "stream",
     "text": [
      "                   tag  count\n",
      "0     YG Entertainment      2\n",
      "1                   YG      3\n",
      "2                  와이지      2\n",
      "3                K-pop      2\n",
      "4            BLACKPINK      1\n",
      "...                ...    ...\n",
      "2948               다이닝      1\n",
      "2949            미쉐린가이드      1\n",
      "2950               미쉐린      1\n",
      "2951          michelin      1\n",
      "2952             seoul      1\n",
      "\n",
      "[2953 rows x 2 columns]\n"
     ]
    }
   ],
   "source": [
    "import pandas as pd\n",
    "import ast\n",
    "import numpy as np\n",
    "\n",
    "\n",
    "# parse the \"tags\" column as a list of strings\n",
    "df['tags'] = df['tags'].apply(lambda x: ast.literal_eval(x) if x != 'Nan' else np.nan)\n",
    "\n",
    "# drop rows with NaN values in the \"tags\" column\n",
    "df = df.dropna(subset=['tags'])\n",
    "\n",
    "# create a list of all tags in the DataFrame\n",
    "tag_list = [tag for sublist in df['tags'] for tag in sublist]\n",
    "\n",
    "# create a dictionary to store the value counts\n",
    "value_counts = {}\n",
    "\n",
    "# iterate over each value in the tag list\n",
    "for value in tag_list:\n",
    "    # add the value to the dictionary with a count of 1 if it does not already exist, or increment its count if it does\n",
    "    value_counts[value] = value_counts.get(value, 0) + 1\n",
    "\n",
    "# create a DataFrame from the dictionary of value counts\n",
    "df_counts = pd.DataFrame(list(value_counts.items()), columns=['tag', 'count'])\n",
    "\n",
    "# print the result\n",
    "print(df_counts)\n"
   ]
  },
  {
   "cell_type": "code",
   "execution_count": 21,
   "metadata": {},
   "outputs": [
    {
     "data": {
      "text/plain": [
       "['YG Entertainment',\n",
       " 'YG',\n",
       " '와이지',\n",
       " 'K-pop',\n",
       " 'BLACKPINK',\n",
       " '블랙핑크',\n",
       " '블핑',\n",
       " '제니',\n",
       " '로제',\n",
       " '리사',\n",
       " '지수',\n",
       " 'LISA',\n",
       " 'JISOO',\n",
       " 'JENNIE',\n",
       " 'ROSÉ',\n",
       " 'BLINK',\n",
       " '블링크',\n",
       " '지수 꽃',\n",
       " 'JISOO FLOWER',\n",
       " 'FLOWER',\n",
       " 'All Eyes On Me',\n",
       " 'JISOO All Eyes On Me',\n",
       " '지수 All Eyes On Me',\n",
       " 'JISOO ME',\n",
       " 'ME',\n",
       " '지수 FLOWER',\n",
       " 'JISOO 꽃']"
      ]
     },
     "execution_count": 21,
     "metadata": {},
     "output_type": "execute_result"
    }
   ],
   "source": [
    "import ast\n",
    "\n",
    "my_list = ast.literal_eval(df['tags'][0])\n",
    "\n",
    "my_list"
   ]
  }
 ],
 "metadata": {
  "kernelspec": {
   "display_name": "youtube",
   "language": "python",
   "name": "python3"
  },
  "language_info": {
   "codemirror_mode": {
    "name": "ipython",
    "version": 3
   },
   "file_extension": ".py",
   "mimetype": "text/x-python",
   "name": "python",
   "nbconvert_exporter": "python",
   "pygments_lexer": "ipython3",
   "version": "3.8.10"
  },
  "orig_nbformat": 4,
  "vscode": {
   "interpreter": {
    "hash": "03620e9787172838262168b97c55377c28b63e01501a24e458c708380ad6f3a3"
   }
  }
 },
 "nbformat": 4,
 "nbformat_minor": 2
}
