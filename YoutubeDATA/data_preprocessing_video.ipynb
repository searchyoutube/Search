{
 "cells": [
  {
   "cell_type": "code",
   "execution_count": 1,
   "metadata": {},
   "outputs": [],
   "source": [
    "import pandas as pd\n",
    "import os"
   ]
  },
  {
   "cell_type": "code",
   "execution_count": 20,
   "metadata": {},
   "outputs": [],
   "source": [
    "def video_preprocess(filename):\n",
    "    datas = pd.read_csv(f'./DATA/videos/{filename}.csv')\n",
    "    #YoutubeDATA\\DATA\\videos\\디글_호구들의감빵생활 레전드_20230401.csv\n",
    "    #C:\\Hallym\\Search\\YoutubeDATA\\DATA\\videos\\진격캐넌_단퐁회_20230408.csv\n",
    "    \n",
    "    datas = datas[datas.views != '-']\n",
    "    datas['views'] = datas['views'].astype(int)\n",
    "    \n",
    "    # calculate the date difference between rows\n",
    "    datas['date_diff'] = pd.to_datetime(datas['date'], format='%Y-%m-%dT%H:%M:%SZ').diff().apply(lambda x: x.total_seconds() / 3600)\n",
    "\n",
    "    # set the first date_diff value to 0\n",
    "    datas.loc[datas.index[0], 'date_diff_hours'] = 0\n",
    "\n",
    "    datas['view_per_minutes'] = datas['views']/datas['date_gap']\n",
    "    # datas['likes_per_view'] = datas['likes'] / datas.loc[datas.index[0], 'views']\n",
    "    datas.drop(['Unnamed: 0'],axis=1,inplace=True)\n",
    "\n",
    "    datas.to_csv(f'./DATA/videos_preprocessed/{filename}.csv')"
   ]
  },
  {
   "cell_type": "code",
   "execution_count": 28,
   "metadata": {},
   "outputs": [
    {
     "name": "stdout",
     "output_type": "stream",
     "text": [
      "AJ_minecraft_20230411.csv\n",
      "Bangtan TV_슈취타_20230411.csv\n",
      "Davidsbeenhere_Kenya_20230411.csv\n",
      "Endless Adventure_50 state camper van road trip_20230411.csv\n",
      "GAMERIOT_CRIME BOSS ROCKAY CITY_20230411.csv\n",
      "GoodTimewithScar_Limited Life_20230411.csv\n",
      "Grian_Limited Life_20230411.csv\n",
      "ImDontaiGaming_Resident Evil 4_20230411.csv\n",
      "Jet Lag_New Zealand_20230411.csv\n",
      "Kara and Nate_Japan Travle Vlog_20230411.csv\n",
      "KBS Kpop_돌박이일_20230411.csv\n",
      "KBS Kpop_리무진서비스_20230411.csv\n",
      "KBS KPOP_아이돌 인간극장_20230411.csv\n",
      "KBS Kpop_은채의 스타일기_20230411.csv\n",
      "MovieHQ_Diable 4_20230411.csv\n",
      "MovieHQ_Hogwarts Legacy_20230411.csv\n",
      "OOTB_전과자_20230411.csv\n",
      "PearlscentMoon_Limited Life_20230411.csv\n",
      "Samuel and Audrey_Renovating hotel in Argentina_20230411.csv\n",
      "SmallishBeans_Limited Life_20230411.csv\n",
      "TencentVideo_My Little Doctor_20230411.csv\n",
      "TheRadBrad_Resident Evil 4_20230411.csv\n",
      "TmarTn2_MLB 23_20230411.csv\n",
      "Toogii_Cafeowner Simulator_20230411.csv\n",
      "Toogii_Hogwarts Legacy_20230411.csv\n",
      "UDONSOBA OSAKA NARA_Chinese_20230411.csv\n",
      "UDONSOBA OSAKA NARA_OSAKA_20230411.csv\n",
      "WildLens_Inda_20230411.csv\n",
      "WIRED_Autocomplete Interview_20230411.csv\n",
      "Zahait_Masterplan Tycoon_20230411.csv\n",
      "강형욱의 보듬TV_견종백과_20230411.csv\n",
      "겁도 없꾸라_겁도 없꾸라_20230411.csv\n",
      "공부왕찐천재 홍진경_수업시간_20230411.csv\n",
      "곽튜브_찐따록_20230411.csv\n",
      "글자네_단퐁회_20230411.csv\n",
      "김지윤의 지식play_국제정치_20230411.csv\n",
      "김한강_김한강 시리즈_20230411.csv\n",
      "꼰대희_밥묵자_20230411.csv\n",
      "끄적끄적_끄적끄적_20230411.csv\n",
      "낄낄상회_가졳같은회사_20230411.csv\n",
      "낄낄상회_자취기생충_20230411.csv\n",
      "너덜트_너덜트_20230411.csv\n",
      "달라스튜디오_네고왕_20230411.csv\n",
      "뜬뜬_빰빰소셜클럽_20230411.csv\n",
      "뜬뜬_핑계고_20230411.csv\n",
      "르세라핌_LENIVERSE_20230411.csv\n",
      "명예훈장_단퐁회_20230411.csv\n",
      "빠더너스_오지않는당신을기다리며3_20230411.csv\n",
      "빽능_불타는 청춘_20230411.csv\n",
      "스낵타운_엘프타운_20230411.csv\n",
      "스튜디오 와플_바퀴달린입3_20230411.csv\n",
      "스튜디오 피넛버터_전부 노래 잘함_20230411.csv\n",
      "시즌비시즌_시즌3_20230411.csv\n",
      "용진호건강원_용진호건강원_20230411.csv\n",
      "워크맨_워크맨2_20230411.csv\n",
      "이지금_아이유의팔레트_20230411.csv\n",
      "재밌는 거 올라온다_또간집_20230411.csv\n",
      "제일기획_제일엔터테인먼트_20230411.csv\n",
      "조현아_조현아의 목요일 밤_20230411.csv\n",
      "지켜츄_지켜츄_20230411.csv\n",
      "진격캐넌_단퐁회_20230411.csv\n",
      "차린건 쥐뿔도 없지만_차린건 쥐뿔도 없지만_20230411.csv\n",
      "채코제_아메리카 여행_20230411.csv\n",
      "춘자_단퐁회_20230411.csv\n",
      "캡존탁_단퐁회_20230411.csv\n",
      "쿠첸_먹어BAR_20230411.csv\n",
      "파뿌리_천원vs만원vs천만원_20230411.csv\n",
      "팡이요_단퐁회_20230411.csv\n",
      "피식대학_05학번이즈히어_20230411.csv\n",
      "하나은행_돈을말하다_20230411.csv\n",
      "하이틴에이저_애들연애_20230411.csv\n",
      "하이틴에이저_웹드라마_20230411.csv\n",
      "홍쓴tv_vlog_20230411.csv\n"
     ]
    }
   ],
   "source": [
    "path = r\".\\DATA\\videos\"\n",
    "file_lst = os.listdir(path)\n",
    "\n",
    "for filename in file_lst:\n",
    "    print(filename)\n",
    "    video_preprocess(filename[:-4])"
   ]
  },
  {
   "cell_type": "code",
   "execution_count": 8,
   "metadata": {},
   "outputs": [],
   "source": [
    "# read the CSV file into a Pandas DataFrame\n",
    "df = pd.read_csv('./DATA/PopularRightNow/PRN_korea_20230402.csv')\n",
    "\n",
    "# create a new DataFrame by exploding the 'tags' column\n",
    "tags_df = df.explode('tags')\n",
    "\n",
    "# group by 'tags' and aggregate the sum of 'views' and count of 'tags'\n",
    "result = tags_df.groupby('tags').agg({'views': 'sum', 'tags': 'count'})\n",
    "\n",
    "# rename the columns to more descriptive names\n",
    "result = result.rename(columns={'tags': 'tag_count', 'views': 'total_views'})\n",
    "\n",
    "# sort the DataFrame by 'total_views' in descending order\n",
    "result = result.sort_values('total_views', ascending=False)\n"
   ]
  },
  {
   "cell_type": "code",
   "execution_count": 24,
   "metadata": {},
   "outputs": [
    {
     "name": "stdout",
     "output_type": "stream",
     "text": [
      "                   tag  count\n",
      "0     YG Entertainment      2\n",
      "1                   YG      3\n",
      "2                  와이지      2\n",
      "3                K-pop      2\n",
      "4            BLACKPINK      1\n",
      "...                ...    ...\n",
      "2948               다이닝      1\n",
      "2949            미쉐린가이드      1\n",
      "2950               미쉐린      1\n",
      "2951          michelin      1\n",
      "2952             seoul      1\n",
      "\n",
      "[2953 rows x 2 columns]\n"
     ]
    }
   ],
   "source": [
    "import pandas as pd\n",
    "import ast\n",
    "import numpy as np\n",
    "\n",
    "\n",
    "# parse the \"tags\" column as a list of strings\n",
    "df['tags'] = df['tags'].apply(lambda x: ast.literal_eval(x) if x != 'Nan' else np.nan)\n",
    "\n",
    "# drop rows with NaN values in the \"tags\" column\n",
    "df = df.dropna(subset=['tags'])\n",
    "\n",
    "# create a list of all tags in the DataFrame\n",
    "tag_list = [tag for sublist in df['tags'] for tag in sublist]\n",
    "\n",
    "# create a dictionary to store the value counts\n",
    "value_counts = {}\n",
    "\n",
    "# iterate over each value in the tag list\n",
    "for value in tag_list:\n",
    "    # add the value to the dictionary with a count of 1 if it does not already exist, or increment its count if it does\n",
    "    value_counts[value] = value_counts.get(value, 0) + 1\n",
    "\n",
    "# create a DataFrame from the dictionary of value counts\n",
    "df_counts = pd.DataFrame(list(value_counts.items()), columns=['tag', 'count'])\n",
    "\n",
    "# print the result\n",
    "print(df_counts)\n"
   ]
  },
  {
   "cell_type": "code",
   "execution_count": 21,
   "metadata": {},
   "outputs": [
    {
     "data": {
      "text/plain": [
       "['YG Entertainment',\n",
       " 'YG',\n",
       " '와이지',\n",
       " 'K-pop',\n",
       " 'BLACKPINK',\n",
       " '블랙핑크',\n",
       " '블핑',\n",
       " '제니',\n",
       " '로제',\n",
       " '리사',\n",
       " '지수',\n",
       " 'LISA',\n",
       " 'JISOO',\n",
       " 'JENNIE',\n",
       " 'ROSÉ',\n",
       " 'BLINK',\n",
       " '블링크',\n",
       " '지수 꽃',\n",
       " 'JISOO FLOWER',\n",
       " 'FLOWER',\n",
       " 'All Eyes On Me',\n",
       " 'JISOO All Eyes On Me',\n",
       " '지수 All Eyes On Me',\n",
       " 'JISOO ME',\n",
       " 'ME',\n",
       " '지수 FLOWER',\n",
       " 'JISOO 꽃']"
      ]
     },
     "execution_count": 21,
     "metadata": {},
     "output_type": "execute_result"
    }
   ],
   "source": [
    "import ast\n",
    "\n",
    "my_list = ast.literal_eval(df['tags'][0])\n",
    "\n",
    "my_list"
   ]
  }
 ],
 "metadata": {
  "kernelspec": {
   "display_name": "youtube",
   "language": "python",
   "name": "python3"
  },
  "language_info": {
   "codemirror_mode": {
    "name": "ipython",
    "version": 3
   },
   "file_extension": ".py",
   "mimetype": "text/x-python",
   "name": "python",
   "nbconvert_exporter": "python",
   "pygments_lexer": "ipython3",
   "version": "3.8.10"
  },
  "orig_nbformat": 4,
  "vscode": {
   "interpreter": {
    "hash": "03620e9787172838262168b97c55377c28b63e01501a24e458c708380ad6f3a3"
   }
  }
 },
 "nbformat": 4,
 "nbformat_minor": 2
}
